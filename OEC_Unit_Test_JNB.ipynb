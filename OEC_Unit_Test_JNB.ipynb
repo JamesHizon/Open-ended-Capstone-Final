{
 "cells": [
  {
   "cell_type": "markdown",
   "id": "2a2671df",
   "metadata": {},
   "source": [
    "# Jupyter Notebook to run test cases"
   ]
  },
  {
   "cell_type": "code",
   "execution_count": 1,
   "id": "bc890c32",
   "metadata": {},
   "outputs": [
    {
     "data": {
      "application/vnd.jupyter.widget-view+json": {
       "model_id": "b7114206fb074528ba435194e441778e",
       "version_major": 2,
       "version_minor": 0
      },
      "text/plain": [
       "VBox()"
      ]
     },
     "metadata": {},
     "output_type": "display_data"
    },
    {
     "name": "stdout",
     "output_type": "stream",
     "text": [
      "Starting Spark application\n"
     ]
    },
    {
     "data": {
      "text/html": [
       "<table>\n",
       "<tr><th>ID</th><th>YARN Application ID</th><th>Kind</th><th>State</th><th>Spark UI</th><th>Driver log</th><th>Current session?</th></tr><tr><td>0</td><td>application_1628356042111_0001</td><td>pyspark</td><td>idle</td><td><a target=\"_blank\" href=\"http://ip-172-31-2-37.ec2.internal:20888/proxy/application_1628356042111_0001/\" class=\"emr-proxy-link\" emr-resource=\"j-2BKFNAYLQZL9R\n",
       "\" application-id=\"application_1628356042111_0001\">Link</a></td><td><a target=\"_blank\" href=\"http://ip-172-31-4-27.ec2.internal:8042/node/containerlogs/container_1628356042111_0001_01_000001/livy\" >Link</a></td><td>✔</td></tr></table>"
      ],
      "text/plain": [
       "<IPython.core.display.HTML object>"
      ]
     },
     "metadata": {},
     "output_type": "display_data"
    },
    {
     "data": {
      "application/vnd.jupyter.widget-view+json": {
       "model_id": "",
       "version_major": 2,
       "version_minor": 0
      },
      "text/plain": [
       "FloatProgress(value=0.0, bar_style='info', description='Progress:', layout=Layout(height='25px', width='50%'),…"
      ]
     },
     "metadata": {},
     "output_type": "display_data"
    },
    {
     "name": "stdout",
     "output_type": "stream",
     "text": [
      "SparkSession available as 'spark'.\n"
     ]
    },
    {
     "data": {
      "application/vnd.jupyter.widget-view+json": {
       "model_id": "",
       "version_major": 2,
       "version_minor": 0
      },
      "text/plain": [
       "FloatProgress(value=0.0, bar_style='info', description='Progress:', layout=Layout(height='25px', width='50%'),…"
      ]
     },
     "metadata": {},
     "output_type": "display_data"
    },
    {
     "name": "stdout",
     "output_type": "stream",
     "text": [
      "Collecting boto3\n",
      "  Downloading https://files.pythonhosted.org/packages/10/a3/dba364b068e51c05c961186cf0f328bc84f33c56bfa95144115c3b45402e/boto3-1.18.16-py3-none-any.whl (131kB)\n",
      "Collecting s3transfer<0.6.0,>=0.5.0 (from boto3)\n",
      "  Downloading https://files.pythonhosted.org/packages/ab/84/fc3717a7b7f0f6bb08af593127171f08e3e0087c197922da09c01bfe7c3a/s3transfer-0.5.0-py3-none-any.whl (79kB)\n",
      "Requirement already satisfied: jmespath<1.0.0,>=0.7.1 in /usr/local/lib/python3.7/site-packages (from boto3)\n",
      "Collecting botocore<1.22.0,>=1.21.16 (from boto3)\n",
      "  Downloading https://files.pythonhosted.org/packages/b8/9c/17a8241782a159847f05ab3625d001b8534a1b6b297a4a686241cbe103ff/botocore-1.21.16-py3-none-any.whl (7.8MB)\n",
      "Collecting urllib3<1.27,>=1.25.4 (from botocore<1.22.0,>=1.21.16->boto3)\n",
      "  Downloading https://files.pythonhosted.org/packages/5f/64/43575537846896abac0b15c3e5ac678d787a4021e906703f1766bfb8ea11/urllib3-1.26.6-py2.py3-none-any.whl (138kB)\n",
      "Collecting python-dateutil<3.0.0,>=2.1 (from botocore<1.22.0,>=1.21.16->boto3)\n",
      "  Downloading https://files.pythonhosted.org/packages/36/7a/87837f39d0296e723bb9b62bbb257d0355c7f6128853c78955f57342a56d/python_dateutil-2.8.2-py2.py3-none-any.whl (247kB)\n",
      "Requirement already satisfied: six>=1.5 in /usr/local/lib/python3.7/site-packages (from python-dateutil<3.0.0,>=2.1->botocore<1.22.0,>=1.21.16->boto3)\n",
      "Installing collected packages: urllib3, python-dateutil, botocore, s3transfer, boto3\n",
      "Successfully installed boto3-1.18.16 botocore-1.21.16 python-dateutil-2.8.2 s3transfer-0.5.0 urllib3-1.26.6\n",
      "\n",
      "Collecting unittest\n",
      "\n",
      "\n",
      "  Could not find a version that satisfies the requirement unittest (from versions: )\n",
      "No matching distribution found for unittest"
     ]
    }
   ],
   "source": [
    "sc.install_pypi_package(\"boto3\")\n",
    "sc.install_pypi_package(\"unittest\")"
   ]
  },
  {
   "cell_type": "code",
   "execution_count": 2,
   "id": "241859ee",
   "metadata": {},
   "outputs": [
    {
     "data": {
      "application/vnd.jupyter.widget-view+json": {
       "model_id": "604728a22e114cfb96188470b8cdc52c",
       "version_major": 2,
       "version_minor": 0
      },
      "text/plain": [
       "VBox()"
      ]
     },
     "metadata": {},
     "output_type": "display_data"
    },
    {
     "data": {
      "application/vnd.jupyter.widget-view+json": {
       "model_id": "",
       "version_major": 2,
       "version_minor": 0
      },
      "text/plain": [
       "FloatProgress(value=0.0, bar_style='info', description='Progress:', layout=Layout(height='25px', width='50%'),…"
      ]
     },
     "metadata": {},
     "output_type": "display_data"
    }
   ],
   "source": [
    "import boto3\n",
    "import unittest\n",
    "from pyspark.sql import SparkSession"
   ]
  },
  {
   "cell_type": "code",
   "execution_count": 3,
   "id": "163eed13",
   "metadata": {},
   "outputs": [
    {
     "data": {
      "application/vnd.jupyter.widget-view+json": {
       "model_id": "6f0cafc1aaa442eb8ea3145541e7e39a",
       "version_major": 2,
       "version_minor": 0
      },
      "text/plain": [
       "VBox()"
      ]
     },
     "metadata": {},
     "output_type": "display_data"
    },
    {
     "data": {
      "application/vnd.jupyter.widget-view+json": {
       "model_id": "",
       "version_major": 2,
       "version_minor": 0
      },
      "text/plain": [
       "FloatProgress(value=0.0, bar_style='info', description='Progress:', layout=Layout(height='25px', width='50%'),…"
      ]
     },
     "metadata": {},
     "output_type": "display_data"
    }
   ],
   "source": [
    "# Create entry point to Spark\n",
    "spark = SparkSession.builder \\\n",
    "    .master(\"local\") \\\n",
    "    .appName(\"OE Capstone App\") \\\n",
    "    .getOrCreate()\n",
    "sc = spark.sparkContext\n",
    "\n",
    "# Create s3 object using boto3\n",
    "s3 = boto3.resource('s3')\n",
    "\n",
    "# URI path object\n",
    "s3_uri_path = \"s3a://openendedcapstone/\""
   ]
  },
  {
   "cell_type": "code",
   "execution_count": 19,
   "id": "7802a863",
   "metadata": {},
   "outputs": [
    {
     "data": {
      "application/vnd.jupyter.widget-view+json": {
       "model_id": "e5037cf5d79d4ff4a139df10b761fe6b",
       "version_major": 2,
       "version_minor": 0
      },
      "text/plain": [
       "VBox()"
      ]
     },
     "metadata": {},
     "output_type": "display_data"
    },
    {
     "data": {
      "application/vnd.jupyter.widget-view+json": {
       "model_id": "",
       "version_major": 2,
       "version_minor": 0
      },
      "text/plain": [
       "FloatProgress(value=0.0, bar_style='info', description='Progress:', layout=Layout(height='25px', width='50%'),…"
      ]
     },
     "metadata": {},
     "output_type": "display_data"
    }
   ],
   "source": [
    "class DataPipelineTestCases(unittest.TestCase):\n",
    "\n",
    "    def test_column_count_data_stream_2(self):\n",
    "        test_file_path = \"Data_Stream_2/20191003.gkgcounts.csv\"\n",
    "        test_file_complete_path = s3_uri_path + test_file_path\n",
    "        spark_df = spark.read.csv(test_file_complete_path, header=True, sep=\"\\t\")\n",
    "        col_count = len(spark_df.columns)\n",
    "        self.assertEqual(col_count, 14)\n",
    "\n",
    "    def test_column_count_data_stream_1(self):\n",
    "        test_file_path = \"Data_Stream_1/20191201.gkg.csv\"\n",
    "        test_file_complete_path = s3_uri_path + test_file_path\n",
    "        spark_df = spark.read.csv(test_file_complete_path, header=True, sep=\"\\t\")\n",
    "        col_count = len(spark_df.columns)\n",
    "        self.assertEqual(col_count, 9)\n",
    "\n",
    "    def test_dropped_columns(self):\n",
    "        test_file_path = \"Data_Stream_1/20191201.gkg.csv\"\n",
    "        test_file_complete_path = s3_uri_path + test_file_path\n",
    "        spark_df = spark.read.csv(test_file_complete_path, header=True, sep=\"\\t\")\n",
    "        true_stmt = \"DATE\" and \"COUNT\" not in spark_df.columns\n",
    "        false_stmt = \"Did not drop column.\"\n",
    "        self.assertTrue(true_stmt, false_stmt)\n",
    "\n",
    "    def test_data_type_integer(self):\n",
    "        test_file_path = \"Data_Stream_2/20191003.gkgcounts.csv\"\n",
    "        test_file_complete_path = s3_uri_path + test_file_path\n",
    "        spark_df = spark.read.csv(test_file_complete_path, header=True, sep=\"\\t\")\n",
    "        data_type = dict(spark_df.dtypes)[\"NUMBER\"]\n",
    "        self.assertEqual(data_type, \"integer\")"
   ]
  },
  {
   "cell_type": "code",
   "execution_count": 7,
   "id": "db0adc51",
   "metadata": {},
   "outputs": [
    {
     "data": {
      "application/vnd.jupyter.widget-view+json": {
       "model_id": "636b41a7cc3f4c0ba6c9d2f66186f1a9",
       "version_major": 2,
       "version_minor": 0
      },
      "text/plain": [
       "VBox()"
      ]
     },
     "metadata": {},
     "output_type": "display_data"
    },
    {
     "data": {
      "application/vnd.jupyter.widget-view+json": {
       "model_id": "",
       "version_major": 2,
       "version_minor": 0
      },
      "text/plain": [
       "FloatProgress(value=0.0, bar_style='info', description='Progress:', layout=Layout(height='25px', width='50%'),…"
      ]
     },
     "metadata": {},
     "output_type": "display_data"
    }
   ],
   "source": [
    "# Run unit tests\n",
    "# if __name__ == '__main__':\n",
    "#     DataPipelineTestCase.main()\n",
    "#     # unittest.main()"
   ]
  },
  {
   "cell_type": "code",
   "execution_count": null,
   "id": "a0debf2e",
   "metadata": {},
   "outputs": [],
   "source": [
    "# unittest.main(argv=[''], verbosity=2, exit=False)"
   ]
  },
  {
   "cell_type": "markdown",
   "id": "b4754caf",
   "metadata": {},
   "source": [
    "# Test Suite"
   ]
  },
  {
   "cell_type": "code",
   "execution_count": 20,
   "id": "d0c94e1f",
   "metadata": {},
   "outputs": [
    {
     "data": {
      "application/vnd.jupyter.widget-view+json": {
       "model_id": "bafba971ce7e400f94e39fc075fa26b6",
       "version_major": 2,
       "version_minor": 0
      },
      "text/plain": [
       "VBox()"
      ]
     },
     "metadata": {},
     "output_type": "display_data"
    },
    {
     "data": {
      "application/vnd.jupyter.widget-view+json": {
       "model_id": "",
       "version_major": 2,
       "version_minor": 0
      },
      "text/plain": [
       "FloatProgress(value=0.0, bar_style='info', description='Progress:', layout=Layout(height='25px', width='50%'),…"
      ]
     },
     "metadata": {},
     "output_type": "display_data"
    },
    {
     "name": "stdout",
     "output_type": "stream",
     "text": [
      "Correct column count for DS 2.\n",
      "<unittest.runner.TextTestResult run=4 errors=0 failures=2>\n",
      "test_column_count_data_stream_1 (builtins.DataPipelineTestCases) ... FAIL\n",
      "test_column_count_data_stream_2 (builtins.DataPipelineTestCases) ... ok\n",
      "test_data_type_integer (builtins.DataPipelineTestCases) ... FAIL\n",
      "test_dropped_columns (builtins.DataPipelineTestCases) ... ok\n",
      "\n",
      "======================================================================\n",
      "FAIL: test_column_count_data_stream_1 (builtins.DataPipelineTestCases)\n",
      "----------------------------------------------------------------------\n",
      "Traceback (most recent call last):\n",
      "  File \"<stdin>\", line 16, in test_column_count_data_stream_1\n",
      "AssertionError: 9 != 10\n",
      "\n",
      "======================================================================\n",
      "FAIL: test_data_type_integer (builtins.DataPipelineTestCases)\n",
      "----------------------------------------------------------------------\n",
      "Traceback (most recent call last):\n",
      "  File \"<stdin>\", line 32, in test_data_type_integer\n",
      "AssertionError: 'string' != 'integer'\n",
      "- string\n",
      "+ integer\n",
      "\n",
      "\n",
      "----------------------------------------------------------------------\n",
      "Ran 4 tests in 12.535s\n",
      "\n",
      "FAILED (failures=2)"
     ]
    }
   ],
   "source": [
    "suite = unittest.TestLoader().loadTestsFromTestCase(DataPipelineTestCases)\n",
    "runner = unittest.TextTestRunner(verbosity=2)\n",
    "runner.run(suite)"
   ]
  }
 ],
 "metadata": {
  "kernelspec": {
   "display_name": "PySpark",
   "language": "",
   "name": "pysparkkernel"
  },
  "language_info": {
   "codemirror_mode": {
    "name": "python",
    "version": 3
   },
   "mimetype": "text/x-python",
   "name": "pyspark",
   "pygments_lexer": "python3"
  }
 },
 "nbformat": 4,
 "nbformat_minor": 5
}
